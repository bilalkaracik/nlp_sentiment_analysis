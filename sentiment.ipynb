{
 "cells": [
  {
   "cell_type": "code",
   "execution_count": 1,
   "id": "a732877a-ba2d-4b1d-aff8-7c8e8b4af10d",
   "metadata": {},
   "outputs": [],
   "source": [
    "import pandas as pd\n",
    "import string\n",
    "import re\n",
    "import nltk\n",
    "from nltk.corpus import stopwords\n",
    "from sklearn.model_selection import train_test_split\n",
    "from sklearn.feature_extraction.text import CountVectorizer\n",
    "from sklearn.feature_extraction.text import TfidfTransformer\n",
    "from sklearn.naive_bayes import MultinomialNB\n",
    "from sklearn.metrics import accuracy_score"
   ]
  },
  {
   "cell_type": "code",
   "execution_count": 2,
   "id": "ef215727-10d0-4282-a089-a67a5d9af520",
   "metadata": {},
   "outputs": [],
   "source": [
    "neg_file = open(\"reviews.neg\",encoding=\"utf-8\")\n",
    "pos_file = open(\"reviews.pos\",encoding=\"utf-8\")\n",
    "\n",
    "\n",
    "with open(\"reviews.neg\", encoding=\"utf-8\") as neg_file:\n",
    "    neg_content = neg_file.readlines()\n",
    "neg_df = pd.DataFrame(neg_content, columns=['Review'])\n",
    "neg_df['Label'] = 'Negative'\n",
    "\n",
    "\n",
    "with open(\"reviews.pos\", encoding=\"utf-8\") as pos_file:\n",
    "    pos_content = pos_file.readlines()\n",
    "pos_df = pd.DataFrame(pos_content, columns=['Review'])\n",
    "pos_df['Label'] = 'Positive'\n",
    "\n",
    "\n",
    "merged_df = pd.concat([neg_df, pos_df], ignore_index=True)\n",
    "\n",
    "df = merged_df.copy()\n"
   ]
  },
  {
   "cell_type": "code",
   "execution_count": 3,
   "id": "9e1f0e56-f5fa-4680-b078-62e3674e423d",
   "metadata": {},
   "outputs": [
    {
     "data": {
      "text/html": [
       "<div>\n",
       "<style scoped>\n",
       "    .dataframe tbody tr th:only-of-type {\n",
       "        vertical-align: middle;\n",
       "    }\n",
       "\n",
       "    .dataframe tbody tr th {\n",
       "        vertical-align: top;\n",
       "    }\n",
       "\n",
       "    .dataframe thead th {\n",
       "        text-align: right;\n",
       "    }\n",
       "</style>\n",
       "<table border=\"1\" class=\"dataframe\">\n",
       "  <thead>\n",
       "    <tr style=\"text-align: right;\">\n",
       "      <th></th>\n",
       "      <th>Review</th>\n",
       "      <th>Label</th>\n",
       "    </tr>\n",
       "  </thead>\n",
       "  <tbody>\n",
       "    <tr>\n",
       "      <th>0</th>\n",
       "      <td>beklentimin altında bir ürün kaliteli değil\\n</td>\n",
       "      <td>Negative</td>\n",
       "    </tr>\n",
       "    <tr>\n",
       "      <th>1</th>\n",
       "      <td>3. kademe hız da motor titreme yapıyor.bu sebe...</td>\n",
       "      <td>Negative</td>\n",
       "    </tr>\n",
       "    <tr>\n",
       "      <th>2</th>\n",
       "      <td>başlığı sabit durmuyor. arka koruma demiri üfl...</td>\n",
       "      <td>Negative</td>\n",
       "    </tr>\n",
       "    <tr>\n",
       "      <th>3</th>\n",
       "      <td>ürün gayet kalitesiz öğrenci evinde aldığımız ...</td>\n",
       "      <td>Negative</td>\n",
       "    </tr>\n",
       "    <tr>\n",
       "      <th>4</th>\n",
       "      <td>yuksek hizda kullanirken titredim yaptigi icin...</td>\n",
       "      <td>Negative</td>\n",
       "    </tr>\n",
       "  </tbody>\n",
       "</table>\n",
       "</div>"
      ],
      "text/plain": [
       "                                              Review     Label\n",
       "0      beklentimin altında bir ürün kaliteli değil\\n  Negative\n",
       "1  3. kademe hız da motor titreme yapıyor.bu sebe...  Negative\n",
       "2  başlığı sabit durmuyor. arka koruma demiri üfl...  Negative\n",
       "3  ürün gayet kalitesiz öğrenci evinde aldığımız ...  Negative\n",
       "4  yuksek hizda kullanirken titredim yaptigi icin...  Negative"
      ]
     },
     "execution_count": 3,
     "metadata": {},
     "output_type": "execute_result"
    }
   ],
   "source": [
    "df.head()"
   ]
  },
  {
   "cell_type": "code",
   "execution_count": 4,
   "id": "3ded5563-2b85-4950-a0d0-527d935dbccf",
   "metadata": {},
   "outputs": [
    {
     "name": "stdout",
     "output_type": "stream",
     "text": [
      "<class 'pandas.core.frame.DataFrame'>\n",
      "RangeIndex: 235165 entries, 0 to 235164\n",
      "Data columns (total 2 columns):\n",
      " #   Column  Non-Null Count   Dtype \n",
      "---  ------  --------------   ----- \n",
      " 0   Review  235165 non-null  object\n",
      " 1   Label   235165 non-null  object\n",
      "dtypes: object(2)\n",
      "memory usage: 3.6+ MB\n"
     ]
    }
   ],
   "source": [
    "df.info()"
   ]
  },
  {
   "cell_type": "code",
   "execution_count": 5,
   "id": "08997d19-fa71-46f2-91ca-d681a3e3f260",
   "metadata": {},
   "outputs": [
    {
     "data": {
      "text/plain": [
       "Positive    220284\n",
       "Negative     14881\n",
       "Name: Label, dtype: int64"
      ]
     },
     "execution_count": 5,
     "metadata": {},
     "output_type": "execute_result"
    }
   ],
   "source": [
    "df[\"Label\"].value_counts()"
   ]
  },
  {
   "cell_type": "code",
   "execution_count": 6,
   "id": "559d49c7-7e35-4d95-98b0-776a02e0f6e0",
   "metadata": {},
   "outputs": [
    {
     "name": "stdout",
     "output_type": "stream",
     "text": [
      "!\"#$%&'()*+,-./:;<=>?@[\\]^_`{|}~\n",
      "['acaba', 'ama', 'aslında', 'az', 'bazı', 'belki', 'biri', 'birkaç', 'birşey', 'biz', 'bu', 'çok', 'çünkü', 'da', 'daha', 'de', 'defa', 'diye', 'eğer', 'en', 'gibi', 'hem', 'hep', 'hepsi', 'her', 'hiç', 'için', 'ile', 'ise', 'kez', 'ki', 'kim', 'mı', 'mu', 'mü', 'nasıl', 'ne', 'neden', 'nerde', 'nerede', 'nereye', 'niçin', 'niye', 'o', 'sanki', 'şey', 'siz', 'şu', 'tüm', 've', 'veya', 'ya', 'yani']\n"
     ]
    }
   ],
   "source": [
    "noktalama = string.punctuation\n",
    "etkisiz = stopwords.words(\"Turkish\")\n",
    "print(noktalama)\n",
    "print(etkisiz)"
   ]
  },
  {
   "cell_type": "code",
   "execution_count": 7,
   "id": "3c81f714-f3e5-4d3d-a990-3d9ac40de247",
   "metadata": {},
   "outputs": [
    {
     "name": "stdout",
     "output_type": "stream",
     "text": [
      "beklentimin altında bir ürün kaliteli değil\n",
      "\n",
      "-------------------\n",
      "beklentimin altında bir ürün kaliteli değil\n",
      "****************\n",
      "3. kademe hız da motor titreme yapıyor.bu sebebten 3.kademe kullanımda uzun ömürlü olacağını zannetmiyorum.elide rahatsız ediyor.\n",
      "\n",
      "-------------------\n",
      "3. kademe hız motor titreme yapıyor.bu sebebten 3.kademe kullanımda uzun ömürlü olacağını zannetmiyorum.elide rahatsız ediyor.\n",
      "****************\n",
      "başlığı sabit durmuyor. arka koruma demiri üfleme hızını 2.sewiye yapınca yüksek ses cikariyor\n",
      "\n",
      "-------------------\n",
      "başlığı sabit durmuyor. arka koruma demiri üfleme hızını 2.sewiye yapınca yüksek ses cikariyor\n",
      "****************\n",
      "ürün gayet kalitesiz öğrenci evinde aldığımız 20 tl lil fön makinası ile aynı hiç farkı yok nerdeyse tek fark üzerinde arzum yazması o kadar.\n",
      "\n",
      "-------------------\n",
      "ürün gayet kalitesiz öğrenci evinde aldığımız tl lil fön makinası aynı farkı yok nerdeyse tek fark üzerinde arzum yazması kadar.\n",
      "****************\n",
      "yuksek hizda kullanirken titredim yaptigi icin eli rahatsiz ediyor\n",
      "\n",
      "-------------------\n",
      "yuksek hizda kullanirken titredim yaptigi icin eli rahatsiz ediyor\n",
      "****************\n"
     ]
    }
   ],
   "source": [
    "for i in df[\"Review\"].head():\n",
    "    print(i + \"\\n-------------------\")\n",
    "    temp = \"\"\n",
    "    for word in i.split():\n",
    "        if word not in etkisiz and not word.isnumeric():\n",
    "            temp += word + \" \"\n",
    "    print(temp.rstrip() + \"\\n****************\")      "
   ]
  },
  {
   "cell_type": "code",
   "execution_count": 8,
   "id": "52912d3e-7b8d-4115-af75-9e025d311de8",
   "metadata": {},
   "outputs": [
    {
     "name": "stdout",
     "output_type": "stream",
     "text": [
      "beklentimin altında bir ürün kaliteli değil\n",
      "\n",
      "-------------------\n",
      "beklentimin altında bir ürün kaliteli değil\n",
      "****************\n",
      "3. kademe hız da motor titreme yapıyor.bu sebebten 3.kademe kullanımda uzun ömürlü olacağını zannetmiyorum.elide rahatsız ediyor.\n",
      "\n",
      "-------------------\n",
      "3 kademe hız da motor titreme yapıyorbu sebebten 3kademe kullanımda uzun ömürlü olacağını zannetmiyorumelide rahatsız ediyor\n",
      "****************\n",
      "başlığı sabit durmuyor. arka koruma demiri üfleme hızını 2.sewiye yapınca yüksek ses cikariyor\n",
      "\n",
      "-------------------\n",
      "başlığı sabit durmuyor arka koruma demiri üfleme hızını 2sewiye yapınca yüksek ses cikariyor\n",
      "****************\n",
      "ürün gayet kalitesiz öğrenci evinde aldığımız 20 tl lil fön makinası ile aynı hiç farkı yok nerdeyse tek fark üzerinde arzum yazması o kadar.\n",
      "\n",
      "-------------------\n",
      "ürün gayet kalitesiz öğrenci evinde aldığımız 20 tl lil fön makinası ile aynı hiç farkı yok nerdeyse tek fark üzerinde arzum yazması o kadar\n",
      "****************\n",
      "yuksek hizda kullanirken titredim yaptigi icin eli rahatsiz ediyor\n",
      "\n",
      "-------------------\n",
      "yuksek hizda kullanirken titredim yaptigi icin eli rahatsiz ediyor\n",
      "****************\n"
     ]
    }
   ],
   "source": [
    "for d in df[\"Review\"].head():\n",
    "    print(d + \"\\n-------------------\")\n",
    "    temp = \"\"\n",
    "    for word in d.split():\n",
    "        kelime = ''.join(char for char in word if char not in noktalama)\n",
    "        if kelime:\n",
    "            temp += kelime + \" \"\n",
    "    print(temp.rstrip() + \"\\n****************\")"
   ]
  },
  {
   "cell_type": "code",
   "execution_count": 9,
   "id": "a02897fa-dd46-46b0-8a67-171eab855cf3",
   "metadata": {},
   "outputs": [],
   "source": [
    "df.to_csv(r'./cleaned.csv' , index = False)"
   ]
  },
  {
   "cell_type": "code",
   "execution_count": 10,
   "id": "96ba9204-74a8-48cc-b503-143e241fc8d5",
   "metadata": {},
   "outputs": [],
   "source": [
    "df = pd.read_csv(\"cleaned.csv\" )"
   ]
  },
  {
   "cell_type": "code",
   "execution_count": 11,
   "id": "cf5221ba-8c38-4955-b6b9-e29ae248b953",
   "metadata": {},
   "outputs": [
    {
     "data": {
      "text/html": [
       "<div>\n",
       "<style scoped>\n",
       "    .dataframe tbody tr th:only-of-type {\n",
       "        vertical-align: middle;\n",
       "    }\n",
       "\n",
       "    .dataframe tbody tr th {\n",
       "        vertical-align: top;\n",
       "    }\n",
       "\n",
       "    .dataframe thead th {\n",
       "        text-align: right;\n",
       "    }\n",
       "</style>\n",
       "<table border=\"1\" class=\"dataframe\">\n",
       "  <thead>\n",
       "    <tr style=\"text-align: right;\">\n",
       "      <th></th>\n",
       "      <th>Review</th>\n",
       "      <th>Label</th>\n",
       "    </tr>\n",
       "  </thead>\n",
       "  <tbody>\n",
       "    <tr>\n",
       "      <th>0</th>\n",
       "      <td>beklentimin altında bir ürün kaliteli değil\\n</td>\n",
       "      <td>Negative</td>\n",
       "    </tr>\n",
       "    <tr>\n",
       "      <th>1</th>\n",
       "      <td>3. kademe hız da motor titreme yapıyor.bu sebe...</td>\n",
       "      <td>Negative</td>\n",
       "    </tr>\n",
       "    <tr>\n",
       "      <th>2</th>\n",
       "      <td>başlığı sabit durmuyor. arka koruma demiri üfl...</td>\n",
       "      <td>Negative</td>\n",
       "    </tr>\n",
       "    <tr>\n",
       "      <th>3</th>\n",
       "      <td>ürün gayet kalitesiz öğrenci evinde aldığımız ...</td>\n",
       "      <td>Negative</td>\n",
       "    </tr>\n",
       "    <tr>\n",
       "      <th>4</th>\n",
       "      <td>yuksek hizda kullanirken titredim yaptigi icin...</td>\n",
       "      <td>Negative</td>\n",
       "    </tr>\n",
       "  </tbody>\n",
       "</table>\n",
       "</div>"
      ],
      "text/plain": [
       "                                              Review     Label\n",
       "0      beklentimin altında bir ürün kaliteli değil\\n  Negative\n",
       "1  3. kademe hız da motor titreme yapıyor.bu sebe...  Negative\n",
       "2  başlığı sabit durmuyor. arka koruma demiri üfl...  Negative\n",
       "3  ürün gayet kalitesiz öğrenci evinde aldığımız ...  Negative\n",
       "4  yuksek hizda kullanirken titredim yaptigi icin...  Negative"
      ]
     },
     "execution_count": 11,
     "metadata": {},
     "output_type": "execute_result"
    }
   ],
   "source": [
    "df.head()"
   ]
  },
  {
   "cell_type": "code",
   "execution_count": 12,
   "id": "ab4dd02f-1e69-413d-a653-b8ece4c8e78d",
   "metadata": {},
   "outputs": [],
   "source": [
    "X_train , X_test , y_train , y_test = train_test_split(df[\"Review\"].values.astype('U'),\n",
    "                                                      df[\"Label\"].values.astype('U') , test_size = 0.2 , random_state = 42)"
   ]
  },
  {
   "cell_type": "code",
   "execution_count": 13,
   "id": "8f86efad-7857-46d5-87b8-bd2d2e216ab6",
   "metadata": {},
   "outputs": [
    {
     "name": "stdout",
     "output_type": "stream",
     "text": [
      "(188132,)\n"
     ]
    }
   ],
   "source": [
    "print(X_train.shape)"
   ]
  },
  {
   "cell_type": "code",
   "execution_count": 14,
   "id": "d769faa9-39e4-495b-8f3e-1ab22eda7888",
   "metadata": {},
   "outputs": [
    {
     "name": "stdout",
     "output_type": "stream",
     "text": [
      "(47033,)\n"
     ]
    }
   ],
   "source": [
    "print(X_test.shape)"
   ]
  },
  {
   "cell_type": "code",
   "execution_count": 15,
   "id": "3379fb19-7826-424b-8d62-2d7ffed34c0d",
   "metadata": {},
   "outputs": [
    {
     "name": "stdout",
     "output_type": "stream",
     "text": [
      "(188132, 186590)\n"
     ]
    }
   ],
   "source": [
    "count_vect = CountVectorizer()\n",
    "X_train_counts = count_vect.fit_transform(X_train)\n",
    "print(X_train_counts.shape)"
   ]
  },
  {
   "cell_type": "code",
   "execution_count": 16,
   "id": "69fb1d5c-baee-4459-9913-b359248efadb",
   "metadata": {},
   "outputs": [
    {
     "name": "stdout",
     "output_type": "stream",
     "text": [
      "(188132, 186590)\n"
     ]
    }
   ],
   "source": [
    "tfidf_transformer = TfidfTransformer()\n",
    "X_train_tfidf = tfidf_transformer.fit_transform(X_train_counts)\n",
    "print(X_train_tfidf.shape)"
   ]
  },
  {
   "cell_type": "code",
   "execution_count": 17,
   "id": "9b1f6263-b2e2-40df-afea-dfe662d27a82",
   "metadata": {},
   "outputs": [],
   "source": [
    "clf = MultinomialNB().fit(X_train_tfidf , y_train)\n",
    "X_test_counts = count_vect.transform(X_test)\n",
    "X_test_tfidf = tfidf_transformer.transform(X_test_counts)"
   ]
  },
  {
   "cell_type": "code",
   "execution_count": 18,
   "id": "3c10f2d5-4740-4103-9666-dbdce2f5d964",
   "metadata": {},
   "outputs": [
    {
     "name": "stdout",
     "output_type": "stream",
     "text": [
      "'asus zenfone 2nin eksileri\\n' => Positive\n",
      "'performansı 9/10 tek özelliği iyon sisteminin olmaması fakat bunu sprey kullanarak cozebilirsiniz.te?ekkürler..\\n' => Positive\n",
      "'gayet başarılı kaliteli\\n' => Positive\n",
      "'önceden monster markalı laptop um gta 5 i 1 saat çalıştırırdı sonra işlemci ve anakart ısındığı için kapatırdı kendi kendine şimdi 4.5 saat dir gta oynuyorum pcde bir ısınma hisstemedim mükemmel bir ürün tavsiye ederim\\n' => Positive\n",
      "'bu fiyata çok güzel televizyon bence sorunsuz geldi\\n' => Positive\n"
     ]
    }
   ],
   "source": [
    "y_pred = clf.predict(X_test_tfidf)\n",
    "for Review , Sentiment in zip(X_test[:5] , y_pred[:]):\n",
    "    print(\"%r => %s\" % (Review , Sentiment))"
   ]
  },
  {
   "cell_type": "code",
   "execution_count": 19,
   "id": "6f3f21c2-e7c5-4cb5-a82e-689415de3ef6",
   "metadata": {},
   "outputs": [
    {
     "name": "stdout",
     "output_type": "stream",
     "text": [
      "0.9375332213552187\n"
     ]
    }
   ],
   "source": [
    "print(accuracy_score(y_test , y_pred))"
   ]
  },
  {
   "cell_type": "code",
   "execution_count": null,
   "id": "07a3290e-175f-4cd8-9643-c6ff347abeaf",
   "metadata": {},
   "outputs": [],
   "source": []
  }
 ],
 "metadata": {
  "kernelspec": {
   "display_name": "Python 3 (ipykernel)",
   "language": "python",
   "name": "python3"
  },
  "language_info": {
   "codemirror_mode": {
    "name": "ipython",
    "version": 3
   },
   "file_extension": ".py",
   "mimetype": "text/x-python",
   "name": "python",
   "nbconvert_exporter": "python",
   "pygments_lexer": "ipython3",
   "version": "3.10.9"
  }
 },
 "nbformat": 4,
 "nbformat_minor": 5
}
